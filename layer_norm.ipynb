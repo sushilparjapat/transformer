{
 "cells": [
  {
   "cell_type": "code",
   "execution_count": 1,
   "metadata": {},
   "outputs": [],
   "source": [
    "import torch\n",
    "from torch import nn\n",
    "     "
   ]
  },
  {
   "cell_type": "code",
   "execution_count": 2,
   "metadata": {},
   "outputs": [
    {
     "data": {
      "text/plain": [
       "torch.Size([2, 1, 3])"
      ]
     },
     "execution_count": 2,
     "metadata": {},
     "output_type": "execute_result"
    }
   ],
   "source": [
    "\n",
    "inputs = torch.Tensor([[[0.2, 0.1, 0.3], [0.5, 0.1, 0.1]]])  # 2 words and 3 is dim of embed.\n",
    "B, S, E = inputs.size()\n",
    "inputs = inputs.reshape(S, B, E)\n",
    "inputs.size()"
   ]
  },
  {
   "cell_type": "markdown",
   "metadata": {},
   "source": [
    "###### . above 2 is number of words and 1 is batch size and 3 is embedd dim."
   ]
  },
  {
   "cell_type": "code",
   "execution_count": 6,
   "metadata": {},
   "outputs": [
    {
     "data": {
      "text/plain": [
       "torch.Size([1, 3])"
      ]
     },
     "execution_count": 6,
     "metadata": {},
     "output_type": "execute_result"
    }
   ],
   "source": [
    "parameter_shape = inputs.size()[-2:]\n",
    "parameter_shape"
   ]
  },
  {
   "cell_type": "code",
   "execution_count": 7,
   "metadata": {},
   "outputs": [],
   "source": [
    "gamma = nn.Parameter(torch.ones(parameter_shape))\n",
    "beta =  nn.Parameter(torch.zeros(parameter_shape))"
   ]
  },
  {
   "cell_type": "code",
   "execution_count": 10,
   "metadata": {},
   "outputs": [
    {
     "data": {
      "text/plain": [
       "Parameter containing:\n",
       "tensor([[1., 1., 1.]], requires_grad=True)"
      ]
     },
     "execution_count": 10,
     "metadata": {},
     "output_type": "execute_result"
    }
   ],
   "source": [
    "gamma"
   ]
  },
  {
   "cell_type": "markdown",
   "metadata": {},
   "source": [
    "### requires grad means learnable parameters"
   ]
  },
  {
   "cell_type": "code",
   "execution_count": 9,
   "metadata": {},
   "outputs": [
    {
     "data": {
      "text/plain": [
       "torch.Size([1, 3])"
      ]
     },
     "execution_count": 9,
     "metadata": {},
     "output_type": "execute_result"
    }
   ],
   "source": [
    "gamma.size()"
   ]
  },
  {
   "cell_type": "code",
   "execution_count": 11,
   "metadata": {},
   "outputs": [],
   "source": [
    "dims = [-(i+1) for i in range(len(parameter_shape))]"
   ]
  },
  {
   "cell_type": "code",
   "execution_count": 13,
   "metadata": {},
   "outputs": [
    {
     "data": {
      "text/plain": [
       "[-1, -2]"
      ]
     },
     "execution_count": 13,
     "metadata": {},
     "output_type": "execute_result"
    }
   ],
   "source": [
    "dims"
   ]
  },
  {
   "cell_type": "code",
   "execution_count": 16,
   "metadata": {},
   "outputs": [
    {
     "name": "stdout",
     "output_type": "stream",
     "text": [
      "torch.Size([2, 1, 1])\n"
     ]
    },
    {
     "data": {
      "text/plain": [
       "tensor([[[0.2000]],\n",
       "\n",
       "        [[0.2333]]])"
      ]
     },
     "execution_count": 16,
     "metadata": {},
     "output_type": "execute_result"
    }
   ],
   "source": [
    "mean = inputs.mean(dim = dims , keepdim=True)\n",
    "print(mean.size())\n",
    "mean"
   ]
  },
  {
   "cell_type": "code",
   "execution_count": 21,
   "metadata": {},
   "outputs": [
    {
     "data": {
      "text/plain": [
       "tensor([[[0.0067]],\n",
       "\n",
       "        [[0.0356]]])"
      ]
     },
     "execution_count": 21,
     "metadata": {},
     "output_type": "execute_result"
    }
   ],
   "source": [
    "var = ((inputs - mean) ** 2).mean(dim = dims , keepdim=True) \n",
    "var"
   ]
  },
  {
   "cell_type": "code",
   "execution_count": 25,
   "metadata": {},
   "outputs": [
    {
     "data": {
      "text/plain": [
       "tensor([[[0.0817]],\n",
       "\n",
       "        [[0.1886]]])"
      ]
     },
     "execution_count": 25,
     "metadata": {},
     "output_type": "execute_result"
    }
   ],
   "source": [
    "epsilon = 1e-5\n",
    "import math\n",
    "std = (var + epsilon).sqrt()\n",
    "std"
   ]
  },
  {
   "cell_type": "code",
   "execution_count": 27,
   "metadata": {},
   "outputs": [
    {
     "data": {
      "text/plain": [
       "tensor([[[ 0.0000, -1.2238,  1.2238]],\n",
       "\n",
       "        [[ 1.4140, -0.7070, -0.7070]]])"
      ]
     },
     "execution_count": 27,
     "metadata": {},
     "output_type": "execute_result"
    }
   ],
   "source": [
    "y = (inputs - mean) / std\n",
    "y"
   ]
  },
  {
   "cell_type": "code",
   "execution_count": 28,
   "metadata": {},
   "outputs": [],
   "source": [
    "\n",
    "out = gamma * y + beta"
   ]
  },
  {
   "cell_type": "code",
   "execution_count": 29,
   "metadata": {},
   "outputs": [
    {
     "data": {
      "text/plain": [
       "tensor([[[ 0.0000, -1.2238,  1.2238]],\n",
       "\n",
       "        [[ 1.4140, -0.7070, -0.7070]]], grad_fn=<AddBackward0>)"
      ]
     },
     "execution_count": 29,
     "metadata": {},
     "output_type": "execute_result"
    }
   ],
   "source": [
    "out"
   ]
  },
  {
   "cell_type": "markdown",
   "metadata": {},
   "source": [
    "## Class"
   ]
  },
  {
   "cell_type": "code",
   "execution_count": 36,
   "metadata": {},
   "outputs": [],
   "source": [
    "\n",
    "import torch\n",
    "from torch import nn\n",
    "\n",
    "class LayerNormalization():\n",
    "    def __init__(self, parameters_shape, eps=1e-5):\n",
    "        self.parameters_shape=parameters_shape\n",
    "        self.eps=eps\n",
    "        self.gamma = nn.Parameter(torch.ones(parameters_shape))\n",
    "        self.beta =  nn.Parameter(torch.zeros(parameters_shape))\n",
    "\n",
    "    def forward(self, inputs):\n",
    "        dims = [-(i + 1) for i in range(len(self.parameters_shape))]\n",
    "        mean = inputs.mean(dim=dims, keepdim=True)\n",
    "        print(f\"Mean \\n ({mean.size()}): \\n {mean}\")\n",
    "        var = ((inputs - mean) ** 2).mean(dim=dims, keepdim=True)\n",
    "        std = (var + self.eps).sqrt()\n",
    "        print(f\"Standard Deviation \\n ({std.size()}): \\n {std}\")\n",
    "        y = (inputs - mean) / std\n",
    "        print(f\"y \\n ({y.size()}) = \\n {y}\")\n",
    "        out = self.gamma * y  + self.beta\n",
    "        print(f\"out \\n ({out.size()}) = \\n {out}\")\n",
    "        return out"
   ]
  },
  {
   "cell_type": "code",
   "execution_count": 37,
   "metadata": {},
   "outputs": [],
   "source": [
    "batch_size = 3\n",
    "sentence_length = 5\n",
    "embedding_dim = 8 \n",
    "inputs = torch.randn(sentence_length, batch_size, embedding_dim)\n",
    "\n"
   ]
  },
  {
   "cell_type": "code",
   "execution_count": 38,
   "metadata": {},
   "outputs": [
    {
     "name": "stdout",
     "output_type": "stream",
     "text": [
      "input \n",
      " (torch.Size([5, 3, 8])) = \n",
      " tensor([[[-9.7133e-01,  3.4538e-01,  6.2232e-02, -7.3475e-01, -2.9677e-01,\n",
      "          -6.9970e-01,  9.4477e-01,  7.8345e-01],\n",
      "         [-2.7896e-01,  6.5391e-02,  9.4728e-01, -6.0492e-01, -6.1659e-01,\n",
      "          -1.9093e+00, -7.7270e-03,  2.8011e-01],\n",
      "         [-9.7236e-01,  3.4140e-02,  1.3527e+00, -1.0655e+00, -1.4385e+00,\n",
      "          -9.7426e-01,  8.0860e-02, -1.7422e+00]],\n",
      "\n",
      "        [[-7.8449e-01,  3.0231e-01,  5.7949e-01,  1.1428e+00,  5.1061e-01,\n",
      "          -7.2614e-01, -6.0314e-01,  1.1902e-02],\n",
      "         [ 1.0101e-01,  8.2658e-01,  1.3408e+00, -1.2632e+00, -2.7295e-01,\n",
      "          -7.5048e-01, -7.4986e-01, -1.0533e-01],\n",
      "         [-2.0456e+00,  7.5453e-01,  5.6586e-01, -6.8945e-01,  1.1970e+00,\n",
      "          -4.1402e-01, -2.3778e-01, -7.9907e-01]],\n",
      "\n",
      "        [[ 3.0690e-01, -1.3909e+00,  5.7740e-01, -2.5567e+00, -7.3442e-01,\n",
      "          -3.7989e-01, -1.1128e-01,  7.1328e-01],\n",
      "         [ 1.4228e+00, -8.3991e-02, -4.6483e-01, -1.3216e+00, -1.3080e+00,\n",
      "          -1.5412e+00,  9.2748e-02,  4.2079e-01],\n",
      "         [-1.2519e+00,  2.2865e-04, -9.5036e-01,  4.8292e-01, -3.3671e-01,\n",
      "           2.0257e-01,  1.8528e+00, -1.9685e-01]],\n",
      "\n",
      "        [[-1.1504e+00, -1.8025e+00, -9.1735e-01,  1.2619e-01,  1.3750e+00,\n",
      "          -1.5746e+00, -5.0302e-01,  4.1945e-01],\n",
      "         [-3.4795e-01, -1.4807e-01,  2.4229e+00, -8.5658e-01, -2.9430e-01,\n",
      "           1.8183e+00,  4.2889e-01, -8.3588e-02],\n",
      "         [ 1.2144e+00,  8.4233e-01, -4.4958e-01, -4.7932e-01, -1.5479e+00,\n",
      "           7.2163e-01,  8.2048e-01, -1.5553e+00]],\n",
      "\n",
      "        [[-6.1361e-01,  1.6374e+00, -1.1568e+00, -4.2676e-01,  9.6825e-01,\n",
      "           8.7730e-01,  7.0759e-01, -7.0981e-01],\n",
      "         [-1.7873e+00,  1.2317e-02, -3.3819e-01, -1.2948e-01, -1.1982e+00,\n",
      "          -9.9376e-01,  1.0382e+00, -9.8166e-01],\n",
      "         [-8.5497e-01,  2.3954e+00, -1.9516e+00, -5.1814e-01, -1.2075e+00,\n",
      "           1.3451e+00, -1.4305e+00,  4.0418e-01]]])\n"
     ]
    }
   ],
   "source": [
    "print(f\"input \\n ({inputs.size()}) = \\n {inputs}\")"
   ]
  },
  {
   "cell_type": "code",
   "execution_count": 39,
   "metadata": {},
   "outputs": [],
   "source": [
    "layer_norm = LayerNormalization(inputs.size()[-1:])"
   ]
  },
  {
   "cell_type": "code",
   "execution_count": 40,
   "metadata": {},
   "outputs": [
    {
     "name": "stdout",
     "output_type": "stream",
     "text": [
      "Mean \n",
      " (torch.Size([5, 3, 1])): \n",
      " tensor([[[-0.0708],\n",
      "         [-0.2656],\n",
      "         [-0.5906]],\n",
      "\n",
      "        [[ 0.0542],\n",
      "         [-0.1092],\n",
      "         [-0.2086]],\n",
      "\n",
      "        [[-0.4470],\n",
      "         [-0.3479],\n",
      "         [-0.0247]],\n",
      "\n",
      "        [[-0.5034],\n",
      "         [ 0.3674],\n",
      "         [-0.0542]],\n",
      "\n",
      "        [[ 0.1604],\n",
      "         [-0.5473],\n",
      "         [-0.2273]]])\n",
      "Standard Deviation \n",
      " (torch.Size([5, 3, 1])): \n",
      " tensor([[[0.6755],\n",
      "         [0.7814],\n",
      "         [0.9474]],\n",
      "\n",
      "        [[0.6593],\n",
      "         [0.8064],\n",
      "         [0.9683]],\n",
      "\n",
      "        [[1.0311],\n",
      "         [0.9551],\n",
      "         [0.8892]],\n",
      "\n",
      "        [[1.0125],\n",
      "         [1.0753],\n",
      "         [1.0369]],\n",
      "\n",
      "        [[0.9410],\n",
      "         [0.8212],\n",
      "         [1.3969]]])\n",
      "y \n",
      " (torch.Size([5, 3, 8])) = \n",
      " tensor([[[-1.3331e+00,  6.1616e-01,  1.9700e-01, -9.8284e-01, -3.3446e-01,\n",
      "          -9.3094e-01,  1.5035e+00,  1.2647e+00],\n",
      "         [-1.7116e-02,  4.2355e-01,  1.5521e+00, -4.3423e-01, -4.4916e-01,\n",
      "          -2.1034e+00,  3.2998e-01,  6.9832e-01],\n",
      "         [-4.0290e-01,  6.5943e-01,  2.0511e+00, -5.0117e-01, -8.9489e-01,\n",
      "          -4.0490e-01,  7.0874e-01, -1.2154e+00]],\n",
      "\n",
      "        [[-1.2721e+00,  3.7639e-01,  7.9681e-01,  1.6513e+00,  6.9234e-01,\n",
      "          -1.1836e+00, -9.9702e-01, -6.4110e-02],\n",
      "         [ 2.6063e-01,  1.1604e+00,  1.7980e+00, -1.4310e+00, -2.0308e-01,\n",
      "          -7.9523e-01, -7.9446e-01,  4.7720e-03],\n",
      "         [-1.8972e+00,  9.9463e-01,  7.9979e-01, -4.9662e-01,  1.4516e+00,\n",
      "          -2.1218e-01, -3.0161e-02, -6.0983e-01]],\n",
      "\n",
      "        [[ 7.3109e-01, -9.1543e-01,  9.9343e-01, -2.0461e+00, -2.7879e-01,\n",
      "           6.5043e-02,  3.2554e-01,  1.1252e+00],\n",
      "         [ 1.8540e+00,  2.7631e-01, -1.2243e-01, -1.0195e+00, -1.0052e+00,\n",
      "          -1.2494e+00,  4.6136e-01,  8.0483e-01],\n",
      "         [-1.3802e+00,  2.7985e-02, -1.0411e+00,  5.7085e-01, -3.5095e-01,\n",
      "           2.5555e-01,  2.1115e+00, -1.9366e-01]],\n",
      "\n",
      "        [[-6.3900e-01, -1.2830e+00, -4.0882e-01,  6.2182e-01,  1.8552e+00,\n",
      "          -1.0580e+00,  3.8093e-04,  9.1145e-01],\n",
      "         [-6.6527e-01, -4.7940e-01,  1.9114e+00, -1.1383e+00, -6.1539e-01,\n",
      "           1.3492e+00,  5.7136e-02, -4.1944e-01],\n",
      "         [ 1.2234e+00,  8.6456e-01, -3.8135e-01, -4.1003e-01, -1.4405e+00,\n",
      "           7.4816e-01,  8.4349e-01, -1.4477e+00]],\n",
      "\n",
      "        [[-8.2259e-01,  1.5696e+00, -1.3998e+00, -6.2402e-01,  8.5845e-01,\n",
      "           7.6180e-01,  5.8145e-01, -9.2482e-01],\n",
      "         [-1.5101e+00,  6.8143e-01,  2.5460e-01,  5.0875e-01, -7.9267e-01,\n",
      "          -5.4374e-01,  1.9307e+00, -5.2901e-01],\n",
      "         [-4.4936e-01,  1.8775e+00, -1.2344e+00, -2.0824e-01, -7.0170e-01,\n",
      "           1.1256e+00, -8.6140e-01,  4.5203e-01]]])\n",
      "out \n",
      " (torch.Size([5, 3, 8])) = \n",
      " tensor([[[-1.3331e+00,  6.1616e-01,  1.9700e-01, -9.8284e-01, -3.3446e-01,\n",
      "          -9.3094e-01,  1.5035e+00,  1.2647e+00],\n",
      "         [-1.7116e-02,  4.2355e-01,  1.5521e+00, -4.3423e-01, -4.4916e-01,\n",
      "          -2.1034e+00,  3.2998e-01,  6.9832e-01],\n",
      "         [-4.0290e-01,  6.5943e-01,  2.0511e+00, -5.0117e-01, -8.9489e-01,\n",
      "          -4.0490e-01,  7.0874e-01, -1.2154e+00]],\n",
      "\n",
      "        [[-1.2721e+00,  3.7639e-01,  7.9681e-01,  1.6513e+00,  6.9234e-01,\n",
      "          -1.1836e+00, -9.9702e-01, -6.4110e-02],\n",
      "         [ 2.6063e-01,  1.1604e+00,  1.7980e+00, -1.4310e+00, -2.0308e-01,\n",
      "          -7.9523e-01, -7.9446e-01,  4.7720e-03],\n",
      "         [-1.8972e+00,  9.9463e-01,  7.9979e-01, -4.9662e-01,  1.4516e+00,\n",
      "          -2.1218e-01, -3.0161e-02, -6.0983e-01]],\n",
      "\n",
      "        [[ 7.3109e-01, -9.1543e-01,  9.9343e-01, -2.0461e+00, -2.7879e-01,\n",
      "           6.5043e-02,  3.2554e-01,  1.1252e+00],\n",
      "         [ 1.8540e+00,  2.7631e-01, -1.2243e-01, -1.0195e+00, -1.0052e+00,\n",
      "          -1.2494e+00,  4.6136e-01,  8.0483e-01],\n",
      "         [-1.3802e+00,  2.7985e-02, -1.0411e+00,  5.7085e-01, -3.5095e-01,\n",
      "           2.5555e-01,  2.1115e+00, -1.9366e-01]],\n",
      "\n",
      "        [[-6.3900e-01, -1.2830e+00, -4.0882e-01,  6.2182e-01,  1.8552e+00,\n",
      "          -1.0580e+00,  3.8093e-04,  9.1145e-01],\n",
      "         [-6.6527e-01, -4.7940e-01,  1.9114e+00, -1.1383e+00, -6.1539e-01,\n",
      "           1.3492e+00,  5.7136e-02, -4.1944e-01],\n",
      "         [ 1.2234e+00,  8.6456e-01, -3.8135e-01, -4.1003e-01, -1.4405e+00,\n",
      "           7.4816e-01,  8.4349e-01, -1.4477e+00]],\n",
      "\n",
      "        [[-8.2259e-01,  1.5696e+00, -1.3998e+00, -6.2402e-01,  8.5845e-01,\n",
      "           7.6180e-01,  5.8145e-01, -9.2482e-01],\n",
      "         [-1.5101e+00,  6.8143e-01,  2.5460e-01,  5.0875e-01, -7.9267e-01,\n",
      "          -5.4374e-01,  1.9307e+00, -5.2901e-01],\n",
      "         [-4.4936e-01,  1.8775e+00, -1.2344e+00, -2.0824e-01, -7.0170e-01,\n",
      "           1.1256e+00, -8.6140e-01,  4.5203e-01]]], grad_fn=<AddBackward0>)\n"
     ]
    }
   ],
   "source": [
    "\n",
    "out = layer_norm.forward(inputs)"
   ]
  },
  {
   "cell_type": "code",
   "execution_count": 41,
   "metadata": {},
   "outputs": [
    {
     "data": {
      "text/plain": [
       "(tensor(-1.4901e-08, grad_fn=<MeanBackward0>),\n",
       " tensor(1.0215, grad_fn=<StdBackward0>))"
      ]
     },
     "execution_count": 41,
     "metadata": {},
     "output_type": "execute_result"
    }
   ],
   "source": [
    "out[0].mean(), out[0].std()"
   ]
  }
 ],
 "metadata": {
  "kernelspec": {
   "display_name": "sushil",
   "language": "python",
   "name": "python3"
  },
  "language_info": {
   "codemirror_mode": {
    "name": "ipython",
    "version": 3
   },
   "file_extension": ".py",
   "mimetype": "text/x-python",
   "name": "python",
   "nbconvert_exporter": "python",
   "pygments_lexer": "ipython3",
   "version": "3.10.14"
  }
 },
 "nbformat": 4,
 "nbformat_minor": 2
}
